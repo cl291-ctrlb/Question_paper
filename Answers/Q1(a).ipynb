{
 "cells": [
  {
   "cell_type": "code",
   "execution_count": 31,
   "id": "35243930-1536-4f0c-864c-fbe8787ab4ea",
   "metadata": {},
   "outputs": [],
   "source": [
    "#Q1 (a) Explain any one method to handle the outliers.\n",
    "# let data = [10, 12, 11, 13, 12, 11, 90] ## kbi kbi we need to start fresh from next row not from this one(network issue tha tbi run nhi hua)\n"
   ]
  },
  {
   "cell_type": "code",
   "execution_count": 32,
   "id": "e651e9b3-299e-4f17-a146-56957dba216c",
   "metadata": {},
   "outputs": [
    {
     "name": "stdout",
     "output_type": "stream",
     "text": [
      "Mean: 22.714285714285715\n",
      "Standard Deviation: 29.68565470455545\n",
      "Z-scores: [np.float64(-0.42829729850406933), np.float64(-0.3609246897506202), np.float64(-0.3946109941273448), np.float64(-0.32723838537389566), np.float64(-0.3609246897506202), np.float64(-0.3946109941273448), np.float64(2.2666070516338945)]\n",
      "Outliers detected: [90]\n"
     ]
    }
   ],
   "source": [
    "# Method 1 \n",
    "import numpy as np\n",
    "\n",
    "# Sample data\n",
    "data = [10, 12, 11, 13, 12, 11, 90]\n",
    "\n",
    "# Step 1: Calculate mean and sample standard deviation\n",
    "mean = np.mean(data)\n",
    "std_dev = np.std(data, ddof=1)  # ddof=1 for sample std deviation\n",
    "\n",
    "# Step 2: Compute Z-scores\n",
    "z_scores = [(x - mean) / std_dev for x in data]\n",
    "\n",
    "# Step 3: Identify outliers (Z-score threshold set to 2)\n",
    "outliers = [x for x, z in zip(data, z_scores) if abs(z) > 2]\n",
    "\n",
    "# Step 4: Print results\n",
    "print(\"Mean:\", mean)\n",
    "print(\"Standard Deviation:\", std_dev)\n",
    "print(\"Z-scores:\", z_scores)\n",
    "print(\"Outliers detected:\", outliers)\n"
   ]
  },
  {
   "cell_type": "code",
   "execution_count": 33,
   "id": "d3bc8398-bab2-4f03-a8ea-6b188143209a",
   "metadata": {},
   "outputs": [
    {
     "name": "stdout",
     "output_type": "stream",
     "text": [
      "Mean: 22.714285714285715\n",
      "Standard Deviation: 29.68565470455545\n",
      "Z-scores: [np.float64(-0.43), np.float64(-0.36), np.float64(-0.39), np.float64(-0.33), np.float64(-0.36), np.float64(-0.39), np.float64(2.27)]\n",
      "Outliers detected: [90]\n"
     ]
    }
   ],
   "source": [
    "# More structured\n",
    "import numpy as np\n",
    "\n",
    "data = [10, 12, 11, 13, 12, 11, 90]\n",
    "\n",
    "mean = np.mean(data)\n",
    "std_dev = np.std(data, ddof=1)\n",
    "\n",
    "z_scores = [round((x - mean) / std_dev, 2) for x in data] ## little change\n",
    "\n",
    "outliers = [x for x, z in zip(data, z_scores) if abs(z) > 2]\n",
    "\n",
    "print(\"Mean:\", mean)\n",
    "print(\"Standard Deviation:\", std_dev)\n",
    "print(\"Z-scores:\", z_scores)\n",
    "print(\"Outliers detected:\", outliers)\n"
   ]
  },
  {
   "cell_type": "code",
   "execution_count": 34,
   "id": "7186975c-5e19-419a-afd7-98b81c7c62f1",
   "metadata": {},
   "outputs": [
    {
     "name": "stdout",
     "output_type": "stream",
     "text": [
      "Mean: 22.71\n",
      "Standard Deviation: 29.69\n",
      "Z-scores: [-0.43, -0.36, -0.39, -0.33, -0.36, -0.39, 2.27]\n",
      "Outliers detected: [90]\n"
     ]
    }
   ],
   "source": [
    "#more structured\n",
    "import numpy as np\n",
    "\n",
    "# Dataset\n",
    "data = [10, 12, 11, 13, 12, 11, 90]\n",
    "\n",
    "# Step 1: Calculate mean and sample standard deviation\n",
    "mean = np.mean(data)\n",
    "std_dev = np.std(data, ddof=1)\n",
    "\n",
    "# Step 2: Compute Z-scores and convert to Python float using round()\n",
    "z_scores = [round(float((x - mean) / std_dev), 2) for x in data] ## slighytly change\n",
    "\n",
    "# Step 3: Identify outliers (|Z| > 2)\n",
    "outliers = [x for x, z in zip(data, z_scores) if abs(z) > 2]\n",
    "\n",
    "# Step 4: Print results\n",
    "print(\"Mean:\", round(mean, 2))\n",
    "print(\"Standard Deviation:\", round(std_dev, 2))\n",
    "print(\"Z-scores:\", z_scores)\n",
    "print(\"Outliers detected:\", outliers)\n"
   ]
  },
  {
   "cell_type": "code",
   "execution_count": 35,
   "id": "8a1a92ea-b362-4cdd-9f29-9ac4c48a6bd9",
   "metadata": {},
   "outputs": [],
   "source": [
    "# #short theory\n",
    "\n",
    "# Outlier Detection Using Z-Score and Its Impact on Business\n",
    "\n",
    "# 🔹 What is Z-Score?\n",
    "# The Z-score is a statistical measurement that describes a data point’s distance from the mean, in terms of standard deviations. It is calculated using the formula:\n",
    "# Z-score= ((data vaue - mean of dataset)/standard deviation)\n",
    "\n",
    "# Interpreting Z-Scores:\n",
    "# A Z-score of 0 means the value is exactly at the mean.\n",
    "# A Z-score of ±1 means the value is 1 standard deviation away from the mean.\n",
    "# Values beyond ±2 or ±3 are often considered outliers.\n",
    "\n",
    "# A data point is considered:\n",
    "# ✅ A possible outlier if |Z| > 2\n",
    "# 🚨 A strong outlier if |Z| > 3\n",
    "\n",
    "# Outliers can be:\n",
    "# Legitimate (e.g., a celebrity customer)\n",
    "# Errors (e.g., a data entry mistake)\n",
    "\n",
    "# 💼 Why Outliers Matter in Business:\n",
    "# Outliers can distort insights, bias averages, and mislead forecasts — leading to poor decisions.\n",
    "\n",
    "# Examples\n",
    "# E-Commerce:\n",
    "# ₹50,000 order flagged (Z = +5)\n",
    "# 👉 May indicate fraud or bulk buying.\n",
    "\n",
    "# Retail:\n",
    "# ₹90,000/month spent by 1 customer (Z = +4)\n",
    "# 👉 Identify high-value/VIP customers.\n"
   ]
  }
 ],
 "metadata": {
  "kernelspec": {
   "display_name": "Python 3 (ipykernel)",
   "language": "python",
   "name": "python3"
  },
  "language_info": {
   "codemirror_mode": {
    "name": "ipython",
    "version": 3
   },
   "file_extension": ".py",
   "mimetype": "text/x-python",
   "name": "python",
   "nbconvert_exporter": "python",
   "pygments_lexer": "ipython3",
   "version": "3.13.5"
  }
 },
 "nbformat": 4,
 "nbformat_minor": 5
}
