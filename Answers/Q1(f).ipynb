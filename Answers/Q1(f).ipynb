{
 "cells": [
  {
   "cell_type": "code",
   "execution_count": 30,
   "id": "f750c849-b00e-408c-b2a2-28023c580168",
   "metadata": {},
   "outputs": [
    {
     "name": "stdout",
     "output_type": "stream",
     "text": [
      "  OrderID Region         Category SubCategory  Sales  Profit  Target\n",
      "0    1001  North       Technology     Laptops   2500     300    2200\n",
      "1    1002  South        Furniture      Chairs   1200    -100    1500\n",
      "2    1003   East  Office Supplies       Paper    400      50     350\n",
      "3    1004   West       Technology      Phones   1800     400    1600\n",
      "4    1005  North        Furniture      Tables   1500    -200    1700\n"
     ]
    }
   ],
   "source": [
    "# dataset \n",
    "import pandas as pd\n",
    "# Create a sample dataset\n",
    "data={\n",
    "    \"OrderID\":[\"1001\",\"1002\",\"1003\",\"1004\",\"1005\",\"1006\",\"1007\",\"1008\",\"1009\",\"1010\"],\n",
    "    \"Region\":[\"North\",\"South\",\"East\",\"West\",\"North\",\"South\",\"East\",\"West\",\"North\",\"South\"],\n",
    "    \"Category\":[\"Technology\",\"Furniture\",\"Office Supplies\",\"Technology\",\"Furniture\",\n",
    "                 \"Technology\",\"Office Supplies\",\"Furniture\",\"Technology\",\"Office Supplies\"],\n",
    "    \"SubCategory\":[\"Laptops\",\"Chairs\",\"Paper\",\"Phones\",\"Tables\",\"Laptops\",\n",
    "                    \"Binders\",\"Sofas\",\"Accessories\",\"Storage\"],\n",
    "    \"Sales\":[2500,1200,400,1800,1500,3000,600,2000,700,800],\n",
    "\"Profit\":[300,-100,50,400,-200,500,100,150,120,80],\n",
    "    \"Target\": [2200,1500,350,1600,1700,2800,500,2100,600,700]\n",
    "}\n",
    "df=pd.DataFrame(data)\n",
    "\n",
    "print(df.head())"
   ]
  },
  {
   "cell_type": "code",
   "execution_count": 32,
   "id": "4fccc20e-bf64-47b9-836f-f85a9ce51a23",
   "metadata": {},
   "outputs": [
    {
     "name": "stdout",
     "output_type": "stream",
     "text": [
      "<bound method NDFrame.head of   OrderID Region         Category  SubCategory  Sales  Profit  Target\n",
      "0    1001  North       Technology      Laptops   2500     300    2200\n",
      "1    1002  South        Furniture       Chairs   1200    -100    1500\n",
      "2    1003   East  Office Supplies        Paper    400      50     350\n",
      "3    1004   West       Technology       Phones   1800     400    1600\n",
      "4    1005  North        Furniture       Tables   1500    -200    1700\n",
      "5    1006  South       Technology      Laptops   3000     500    2800\n",
      "6    1007   East  Office Supplies      Binders    600     100     500\n",
      "7    1008   West        Furniture        Sofas   2000     150    2100\n",
      "8    1009  North       Technology  Accessories    700     120     600\n",
      "9    1010  South  Office Supplies      Storage    800      80     700>\n"
     ]
    }
   ],
   "source": [
    "print(df.head) #difference"
   ]
  },
  {
   "cell_type": "code",
   "execution_count": 34,
   "id": "e1bf26bb-eda6-4145-8688-6b74016c185d",
   "metadata": {},
   "outputs": [
    {
     "name": "stdout",
     "output_type": "stream",
     "text": [
      "  OrderID Region         Category  SubCategory  Sales  Profit  Target\n",
      "0    1001  North       Technology      Laptops   2500     300    2200\n",
      "1    1002  South        Furniture       Chairs   1200    -100    1500\n",
      "2    1003   East  Office Supplies        Paper    400      50     350\n",
      "3    1004   West       Technology       Phones   1800     400    1600\n",
      "4    1005  North        Furniture       Tables   1500    -200    1700\n",
      "5    1006  South       Technology      Laptops   3000     500    2800\n",
      "6    1007   East  Office Supplies      Binders    600     100     500\n",
      "7    1008   West        Furniture        Sofas   2000     150    2100\n",
      "8    1009  North       Technology  Accessories    700     120     600\n",
      "9    1010  South  Office Supplies      Storage    800      80     700\n"
     ]
    }
   ],
   "source": [
    "print(df)"
   ]
  },
  {
   "cell_type": "code",
   "execution_count": 36,
   "id": "90ae852e-6f06-4e81-a16f-78c16931aa10",
   "metadata": {},
   "outputs": [
    {
     "name": "stdout",
     "output_type": "stream",
     "text": [
      "csv file creatd:retail_sales.csv\n"
     ]
    }
   ],
   "source": [
    "#save Df as csv\n",
    "df.to_csv(\"retail_sales.csv\",index=False)\n",
    "print(\"csv file creatd:retail_sales.csv\")\n",
    "#index=False means → do not write the DataFrame’s index column into the CSV file."
   ]
  },
  {
   "cell_type": "code",
   "execution_count": null,
   "id": "a7cd8598-bff4-48ff-b85f-ce7203a321ce",
   "metadata": {},
   "outputs": [],
   "source": []
  }
 ],
 "metadata": {
  "kernelspec": {
   "display_name": "Python 3 (ipykernel)",
   "language": "python",
   "name": "python3"
  },
  "language_info": {
   "codemirror_mode": {
    "name": "ipython",
    "version": 3
   },
   "file_extension": ".py",
   "mimetype": "text/x-python",
   "name": "python",
   "nbconvert_exporter": "python",
   "pygments_lexer": "ipython3",
   "version": "3.12.7"
  }
 },
 "nbformat": 4,
 "nbformat_minor": 5
}
